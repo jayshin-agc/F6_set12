{
 "cells": [
  {
   "cell_type": "markdown",
   "metadata": {},
   "source": [
    "---\n",
    "knit: markdowntemplates::to_jupyter\n",
    "title: \"R Notebook: EdgeR analysis of NGN2 induced neuronal differentiation\"\n",
    "---\n",
    "\n",
    "Load Libraries"
   ]
  },
  {
   "cell_type": "code",
   "execution_count": null,
   "metadata": {},
   "outputs": [],
   "source": [
    "%%R\n",
    "library(dplyr) \n",
    "library(magrittr)\n",
    "library(edgeR)\n",
    "library(knitr)\n",
    "library(reshape2)\n",
    "library(ggplot2)"
   ]
  },
  {
   "cell_type": "markdown",
   "metadata": {},
   "source": [
    "Upload Data and meta data"
   ]
  },
  {
   "cell_type": "code",
   "execution_count": null,
   "metadata": {},
   "outputs": [],
   "source": [
    "%%R\n",
    "# Ensenble gene ID + FANTOM CAT ID is used\n",
    "data = read.table(\"data/F6_set12_count.tsv\", header=TRUE, row.names=1)\n",
    "\n",
    "meta = read.csv(\"meta/F6_set12_meta.csv\")\n",
    "colnames(data)[match(colnames(data), meta$library_name)] = as.character(meta$perturb_id)\n",
    "\n",
    "annotations = read.table(\"meta/ENSG_Annotation.txt\", header=TRUE)\n",
    "\n",
    "# Create groups based on header names\n",
    "s = strsplit(names(data), split=\"\\\\.\")\n",
    "group<-sapply(1:length(s), function(X)  s[[X]][1])"
   ]
  },
  {
   "cell_type": "markdown",
   "metadata": {},
   "source": [
    "Run EdgeR"
   ]
  },
  {
   "cell_type": "code",
   "execution_count": null,
   "metadata": {},
   "outputs": [],
   "source": [
    "%%R\n",
    "# Standard EdgeR commands for normalization and filtering\n",
    "my_data = DGEList(counts=data, group=group)\n",
    "keep = rowSums(cpm(my_data)) >= 3\n",
    "\n",
    "my_data = my_data[keep, ]\n",
    "my_data = calcNormFactors(my_data)\n",
    "\n",
    "# Create design matrix\n",
    "design = model.matrix(~0+group)\n",
    "rownames(design) = colnames(my_data)\n",
    "colnames(design) = unique(group)\n",
    "\n",
    "design # based on replicates\n",
    "\n",
    "# Fit GLM\n",
    "y <- estimateDisp(my_data, design)\n",
    "fit <- glmFit(y, design)\n",
    "\n",
    "# Make comparisons\n",
    "con <- makeContrasts(Day08 = iN_08d - iN_00d, Day03 = iN_03d - iN_00d, levels=design)\n",
    "\n",
    "lrt <- glmLRT(fit, contrast = con)\n",
    "\n",
    "# Show top DEG and summarize\n",
    "topTags(lrt)\n",
    "summary(decideTests(lrt))"
   ]
  },
  {
   "cell_type": "markdown",
   "metadata": {},
   "source": [
    "Retrieve significantly differentially expressed genes"
   ]
  },
  {
   "cell_type": "code",
   "execution_count": null,
   "metadata": {},
   "outputs": [],
   "source": [
    "%%R\n",
    "# Rename\n",
    "de.table = lrt$table\n",
    "\n",
    "# Perform mulitple testing \n",
    "FDR <- p.adjust(de.table$PValue, method=\"BH\") \n",
    "de.table$FDR = FDR\n",
    "de.table$GeneID = rownames(de.table)\n",
    "\n",
    "de.table = merge(de.table, annotations, by = \"GeneID\")\n",
    "\n",
    "# Filter rows (genes) based on a defined criteria\n",
    "hm.table = de.table %>% dplyr::filter((logFC.Day08 > 1 | logFC.Day08 < (-1)) | \n",
    "                                      (logFC.Day03 > 1 | logFC.Day03 < (-1)), \n",
    "                                      FDR < 0.01) %>% \n",
    "                                      dplyr::mutate(., logFC.Day00 = 0) %>%\n",
    "                                      dplyr::select(GeneID, Symbol, logFC.Day00, logFC.Day03, logFC.Day08, FDR)"
   ]
  },
  {
   "cell_type": "markdown",
   "metadata": {},
   "source": [
    "Search GOI and Visualize"
   ]
  },
  {
   "cell_type": "code",
   "execution_count": null,
   "metadata": {},
   "outputs": [],
   "source": [
    "%%R\n",
    "# goi = gene of interest\n",
    "goi = c(\"MAP2\", \"HES2\") # Add gene symbols here\n",
    "\n",
    "melt.table = dplyr::filter(hm.table, Symbol %in% goi) %>% dplyr::select(-FDR) %>% melt()\n",
    "\n",
    "ggplot(melt.table, aes(x=variable, y=as.numeric(value), color=Symbol)) +\n",
    "                        geom_line()\n",
    "                        geom_line(aes(group=factor(Symbol))) + \n",
    "                        geom_point(aes(group=factor(Symbol))) + \n",
    "                        ylab(\"Log2 Ratio\") + xlab (\"Time\") + theme_light(base_size = 20)"
   ]
  },
  {
   "cell_type": "markdown",
   "metadata": {},
   "source": [
    "Perform Gene Ontology anlaysis"
   ]
  },
  {
   "cell_type": "code",
   "execution_count": null,
   "metadata": {},
   "outputs": [],
   "source": [
    "%%R\n",
    "library(topGO)\n",
    "\n",
    "# Define background for GO (also try with hm.table$Symbol) \n",
    "universe = de.table$Symbol\n",
    "\n",
    "# Identify sigGenes for day 3\n",
    "sigGenes.03 = de.table %>% dplyr::filter((logFC.Day03 > 1 | logFC.Day03 < (-1)), \n",
    "                                         FDR < 0.01) %>% \n",
    "                                      dplyr::select(Symbol) %>% .[,1]\n",
    "\n",
    "# Identify sigGenes for day 8\n",
    "sigGenes.08 = de.table %>% dplyr::filter((logFC.Day08 > 1 | logFC.Day08 < (-1)), \n",
    "                                         FDR < 0.01) %>% \n",
    "                                      dplyr::select(Symbol) %>% .[,1]\n",
    "\n",
    "# Convert format to factor\n",
    "gene_universe.03 = factor(as.numeric(universe %in% sigGenes.03))   \n",
    "gene_universe.08 = factor(as.numeric(universe %in% sigGenes.08))   \n",
    "names(gene_universe.03) = universe\n",
    "names(gene_universe.08) = universe\n",
    "\n",
    "# Run Top GO for day 3\n",
    "go_data <- new(\"topGOdata\",\n",
    "               ontology = \"BP\",  \n",
    "               allGenes = gene_universe.03,   \n",
    "               nodeSize = 5,  \n",
    "               annot = annFUN.org,  \n",
    "               mapping = \"org.Hs.eg.db\", \n",
    "               ID = \"ensembl\")  \n",
    "\n",
    "# Statistics \n",
    "go_test <- runTest(go_data, algorithm = \"classic\", statistic = \"fisher\")\n",
    "\n",
    "# Extract GO terms and create table\n",
    "go_table <- GenTable(go_data, weightFisher = go_test,\n",
    "                     orderBy = \"weightFisher\", ranksOf = \"weightFisher\",\n",
    "                     topNodes = sum(score(go_test) < .01), numChar = 50 )\n",
    "\n",
    "\n",
    "# Run Top GO for day 8\n",
    "go_data2 <- new(\"topGOdata\",\n",
    "               ontology = \"BP\",  \n",
    "               allGenes = gene_universe.08,   \n",
    "               nodeSize = 5,  \n",
    "               annot = annFUN.org,  \n",
    "               mapping = \"org.Hs.eg.db\", \n",
    "               ID = \"ensembl\")  \n",
    "\n",
    "# Statistics \n",
    "go_test2 <- runTest(go_data2, algorithm = \"classic\", statistic = \"fisher\")\n",
    "\n",
    "# Extract GO terms and create table\n",
    "go_table2 <- GenTable(go_data2, weightFisher = go_test2,\n",
    "                     orderBy = \"weightFisher\", ranksOf = \"weightFisher\",\n",
    "                     topNodes = sum(score(go_test2) < .01), numChar = 50 )\n",
    "\n",
    "\n",
    "# Merge Day 3 and Day 8 GO tables\n",
    "go_table_all = merge(go_table, go_table2, by = \"GO.ID\")\n",
    "\n",
    "# Change \"< 1e-30\" character string into a numeric value\n",
    "go_table_all$weightFisher.x = as.numeric(gsub(\"< 1e-30\", 1e-30, go_table_all$weightFisher.x))\n",
    "go_table_all$weightFisher.y = as.numeric(gsub(\"< 1e-30\", 1e-30, go_table_all$weightFisher.y))"
   ]
  },
  {
   "cell_type": "markdown",
   "metadata": {},
   "source": [
    "Plot and visualize Significant GO terms"
   ]
  },
  {
   "cell_type": "code",
   "execution_count": null,
   "metadata": {},
   "outputs": [],
   "source": [
    "%%R\n",
    "# Convert p-values to -log10. \n",
    "# .x = day 3\n",
    "# .y = day 8\n",
    "go_table_all$weightFisher.x = go_table_all$weightFisher.x %>% as.numeric %>% -log10(.)\n",
    "go_table_all$weightFisher.y = go_table_all$weightFisher.y %>% as.numeric %>% -log10(.)\n",
    "\n",
    "# Sort the table based on the GO ID significance on day 8\n",
    "go_table_all$GO.ID = factor(go_table_all$GO.ID, \n",
    "                      levels = dplyr::arrange(go_table_all, desc(weightFisher.y))$GO.ID )\n",
    "\n",
    "# Keep only the relevant columns and make GO term unique\n",
    "m = dplyr::select(go_table_all, GO.ID, Term.x, weightFisher.x, weightFisher.y)\n",
    "m$Term.x = make.unique(m$Term.x)\n",
    "\n",
    "# Rearrange the table for GGplot\n",
    "mx = melt(m)\n",
    "\n",
    "# Rename columns\n",
    "mx$variable = gsub(\"weightFisher.x\", \"Day03\", mx$variable)\n",
    "mx$variable = gsub(\"weightFisher.y\", \"Day08\", mx$variable)\n",
    "\n",
    "# Reorder the terms based on P-value\n",
    "mx$Term.x = factor(mx$Term.x, levels = as.factor(m$Term.x[order(m$weightFisher.y, decreasing = TRUE)]) )\n",
    "\n",
    "# Extract terms that contain \"Neuro\"\n",
    "keep = grep(\"neuro\", mx$Term.x, ignore.case = TRUE)\n",
    "mx.neuro = mx[keep,]\n",
    "\n",
    "library(ggplot2)\n",
    "# Plot GO terms\n",
    "ggplot(mx.neuro, aes(x=Term.x, y=value, fill = variable)) + geom_bar(stat = \"identity\", position = \"dodge\") +\n",
    "          theme_classic(base_size = 10) +  \n",
    "          theme(axis.text.x = element_text(angle = 90, hjust = 1)) + \n",
    "          xlab(\"\") + ylab(\"-log10(p-value)\") "
   ]
  }
 ],
 "metadata": {
  "kernelspec": {
   "display_name": "Python 3",
   "language": "python",
   "name": "python3"
  },
  "language_info": {
   "codemirror_mode": {
    "name": "ipython",
    "version": 3
   },
   "file_extension": ".py",
   "mimetype": "text/x-python",
   "name": "python",
   "nbconvert_exporter": "python",
   "pygments_lexer": "ipython3",
   "version": "3.7.6"
  }
 },
 "nbformat": 4,
 "nbformat_minor": 4
}
